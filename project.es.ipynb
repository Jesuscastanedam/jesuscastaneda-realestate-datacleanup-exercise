{
  "cells": [
    {
      "attachments": {},
      "cell_type": "markdown",
      "id": "innocent-university",
      "metadata": {},
      "source": [
        "# Limpieza de bienes raíces\n",
        "\n",
        "Este es un conjunto de datos (dataset) reales que fue descargado usando técnicas de web scraping. La data contiene registros de **Fotocasa**, el cual es uno de los sitios más populares de bienes raíces en España. Por favor no hagas esto (web scraping) a no ser que sea para propósitos académicos.\n",
        "\n",
        "El dataset fue descargado hace algunos años por Henry Navarro y en ningún caso se obtuvo beneficio económico de ello.\n",
        "\n",
        "Contiene miles de datos de casas reales publicadas en la web www.fotocasa.com. Tu objetivo es extraer tanta información como sea posible con el conocimiento que tienes hasta ahora de ciencia de datos, por ejemplo ¿cuál es la casa más cara en todo el dataset?\n",
        "\n",
        "Empecemos precisamente con esa pregunta... ¡Buena suerte!"
      ]
    },
    {
      "attachments": {},
      "cell_type": "markdown",
      "id": "multiple-glass",
      "metadata": {},
      "source": [
        "#### Ejercicio 00. Lee el dataset assets/real_estate.csv e intenta visualizar la tabla (★☆☆)"
      ]
    },
    {
      "cell_type": "code",
      "execution_count": 3,
      "id": "frank-heath",
      "metadata": {},
      "outputs": [
        {
          "name": "stdout",
          "output_type": "stream",
          "text": [
            "       Unnamed: 0  id_realEstates  isNew                    realEstate_name  \\\n",
            "0               1       153771986  False            ferrari 57 inmobiliaria   \n",
            "1               2       153867863  False  tecnocasa fuenlabrada ferrocarril   \n",
            "2               3       153430440  False                 look find boadilla   \n",
            "3               4       152776331  False  tecnocasa fuenlabrada ferrocarril   \n",
            "4               5       153180188  False            ferrari 57 inmobiliaria   \n",
            "...           ...             ...    ...                                ...   \n",
            "15330       15331       153901377  False                infocasa consulting   \n",
            "15331       15332       150394373  False                inmobiliaria pulpon   \n",
            "15332       15333       153901397  False             tecnocasa torrelodones   \n",
            "15333       15334       152607440  False                inmobiliaria pulpon   \n",
            "15334       15335       153901356  False                infocasa consulting   \n",
            "\n",
            "       phone_realEstate                                       url_inmueble  \\\n",
            "0           912177526.0  https://www.fotocasa.es/es/comprar/vivienda/ma...   \n",
            "1           916358736.0  https://www.fotocasa.es/es/comprar/vivienda/ma...   \n",
            "2           916350408.0  https://www.fotocasa.es/es/comprar/vivienda/ma...   \n",
            "3           916358736.0  https://www.fotocasa.es/es/comprar/vivienda/ma...   \n",
            "4           912177526.0  https://www.fotocasa.es/es/comprar/vivienda/ma...   \n",
            "...                 ...                                                ...   \n",
            "15330       911360461.0  https://www.fotocasa.es/es/comprar/vivienda/ma...   \n",
            "15331       912788039.0  https://www.fotocasa.es/es/comprar/vivienda/ma...   \n",
            "15332       912780348.0  https://www.fotocasa.es/es/comprar/vivienda/ma...   \n",
            "15333       912788039.0  https://www.fotocasa.es/es/comprar/vivienda/ma...   \n",
            "15334       911360461.0  https://www.fotocasa.es/es/comprar/vivienda/ma...   \n",
            "\n",
            "       rooms  bathrooms  surface   price  ... level4Id level5Id level6Id  \\\n",
            "0        3.0        2.0    103.0  195000  ...        0        0        0   \n",
            "1        3.0        1.0      NaN   89000  ...        0        0        0   \n",
            "2        2.0        2.0     99.0  390000  ...        0        0        0   \n",
            "3        3.0        1.0     86.0   89000  ...        0        0        0   \n",
            "4        2.0        2.0    106.0  172000  ...        0        0        0   \n",
            "...      ...        ...      ...     ...  ...      ...      ...      ...   \n",
            "15330    2.0        1.0     96.0  259470  ...        0        0        0   \n",
            "15331    3.0        1.0    150.0  165000  ...        0        0        0   \n",
            "15332    4.0        2.0    175.0  495000  ...        0        0        0   \n",
            "15333    3.0        2.0    101.0  195000  ...        0        0        0   \n",
            "15334    3.0        2.0    152.0  765000  ...        0        0        0   \n",
            "\n",
            "      level7Id level8Id accuracy          latitude          longitude zipCode  \\\n",
            "0            0        0        0  40,2948276786438  -3,44402412135624     NaN   \n",
            "1            0        0        1          40,28674           -3,79351     NaN   \n",
            "2            0        0        0  40,4115646786438  -3,90662252135624     NaN   \n",
            "3            0        0        0  40,2853785786438  -3,79508142135624     NaN   \n",
            "4            0        0        0  40,2998774864376  -3,45226301356237     NaN   \n",
            "...        ...      ...      ...               ...                ...     ...   \n",
            "15330        0        0        0          40,45416           -3,70286     NaN   \n",
            "15331        0        0        0          40,36652           -3,48951     NaN   \n",
            "15332        0        0        0          40,57444           -3,92124     NaN   \n",
            "15333        0        0        0          40,36967           -3,48105     NaN   \n",
            "15334        0        0        0          40,45773           -3,69068     NaN   \n",
            "\n",
            "      customZone  \n",
            "0            NaN  \n",
            "1            NaN  \n",
            "2            NaN  \n",
            "3            NaN  \n",
            "4            NaN  \n",
            "...          ...  \n",
            "15330        NaN  \n",
            "15331        NaN  \n",
            "15332        NaN  \n",
            "15333        NaN  \n",
            "15334        NaN  \n",
            "\n",
            "[15335 rows x 37 columns]\n"
          ]
        }
      ],
      "source": [
        "import pandas as pd\n",
        "\n",
        "# Este archivo CSV contiene puntos y comas en lugar de comas como separadores\n",
        "ds = pd.read_csv('assets/real_estate.csv', sep=';')\n",
        "print(ds)"
      ]
    },
    {
      "attachments": {},
      "cell_type": "markdown",
      "id": "latin-guest",
      "metadata": {},
      "source": [
        "#### Ejercicio 01. ¿Cuál es la casa más cara en todo el dataset? (★☆☆)\n",
        "\n",
        "Imprime la dirección y el precio de la casa seleccionada. Por ejemplo:\n",
        "\n",
        "`La casa con dirección en Calle del Prado, Nº20 es la más cara y su precio es de 5000000 USD`"
      ]
    },
    {
      "cell_type": "code",
      "execution_count": 4,
      "id": "developing-optimum",
      "metadata": {},
      "outputs": [
        {
          "name": "stdout",
          "output_type": "stream",
          "text": [
            "La casa con dirección en la calle El Escorial es la más cara y su precio es de 8500000\n"
          ]
        }
      ],
      "source": [
        "# TODO\n",
        "ds_max_addres = (ds.loc[ds['price'].idxmax()])\n",
        "\n",
        "print(\"La casa con dirección en la calle\", ds_max_addres['address'],'es la más cara y su precio es de',ds_max_addres['price']) \n",
        "\n"
      ]
    },
    {
      "attachments": {},
      "cell_type": "markdown",
      "id": "lesser-cosmetic",
      "metadata": {},
      "source": [
        "#### Ejercicio 02. ¿Cuál es la casa más barata del dataset? (★☆☆)\n",
        "\n",
        "Imprime la dirección y el precio de la casa seleccionada. Por ejemplo:\n",
        "\n",
        "`La casa con dirección en Calle Alcalá, Nº58 es la más barata y su precio es de 12000 USD`"
      ]
    },
    {
      "cell_type": "code",
      "execution_count": 5,
      "id": "lovely-oasis",
      "metadata": {},
      "outputs": [
        {
          "name": "stdout",
          "output_type": "stream",
          "text": [
            "La casa con dirección en la calle Parla es la más barata y su precio es de 0\n"
          ]
        }
      ],
      "source": [
        "# TODO\n",
        "ds_min_addres = (ds.loc[ds['price'].idxmin()])\n",
        "\n",
        "print(\"La casa con dirección en la calle\", ds_min_addres['address'],'es la más barata y su precio es de',ds_min_addres['price'])"
      ]
    },
    {
      "attachments": {},
      "cell_type": "markdown",
      "id": "compliant-fellowship",
      "metadata": {},
      "source": [
        "#### Ejercicio 03. ¿Cuál es la casa más grande y la más pequeña del dataset? (★☆☆)\n",
        "\n",
        "Imprime la dirección y el área de las casas seleccionadas. Por ejemplo:\n",
        "\n",
        "`La casa más grande está ubicada en Calle Gran Vía, Nº38 y su superficie es de 5000 metros`\n",
        "\n",
        "`La casa más pequeña está ubicada en Calle Mayor, Nº12 y su superficie es de 200 metros`"
      ]
    },
    {
      "cell_type": "code",
      "execution_count": 6,
      "id": "every-tiffany",
      "metadata": {},
      "outputs": [
        {
          "name": "stdout",
          "output_type": "stream",
          "text": [
            "La casa más grande está ubicada en Calle Sevilla la Nueva y su superficie es de 249000.0\n",
            "La casa más pequeña está ubicada en Calle Calle Amparo,  Madrid Capital y su superficie es de 15.0\n"
          ]
        }
      ],
      "source": [
        "# TODO\n",
        "ds_max_surface = (ds.loc[ds['surface'].idxmax()])\n",
        "ds_min_surface = (ds.loc[ds['surface'].idxmin()])\n",
        "print ('La casa más grande está ubicada en Calle', ds_max_surface['address'], 'y su superficie es de', ds_max_surface['surface'])\n",
        "print ('La casa más pequeña está ubicada en Calle', ds_min_surface['address'], 'y su superficie es de', ds_min_surface['surface'])"
      ]
    },
    {
      "attachments": {},
      "cell_type": "markdown",
      "id": "danish-spirit",
      "metadata": {},
      "source": [
        "#### Ejercicio 04. ¿Cuantas poblaciones (columna level5) contiene el dataset? (★☆☆)\n",
        "\n",
        "Imprime el nombre de las poblaciones separadas por coma. Por ejemplo:\n",
        "\n",
        "`> print(populations)`\n",
        "\n",
        "`population1, population2, population3, ...`"
      ]
    },
    {
      "cell_type": "code",
      "execution_count": 7,
      "id": "exciting-accreditation",
      "metadata": {},
      "outputs": [
        {
          "name": "stdout",
          "output_type": "stream",
          "text": [
            "Arganda del Rey, Fuenlabrada, Boadilla del Monte, Las Rozas de Madrid,  Madrid Capital, Villaviciosa de Odón, Pinto, Valdemoro, Navalcarnero, Pozuelo de Alarcón, Torrejón de Ardoz, Navalagamella, San Sebastián de los Reyes, Rivas-vaciamadrid, Alpedrete, Móstoles, San Fernando de Henares, Coslada, Becerril de la Sierra, Alcalá de Henares, Chinchón, Parla, Alcorcón, El Escorial, Leganés, Pedrezuela, Majadahonda, Villanueva de la Cañada, Villanueva del Pardillo, Torrelodones, Moralzarzal, Mejorada del Campo, Aranjuez, Corpa, Getafe, Velilla de San Antonio, Sevilla la Nueva, San Martín de la Vega, Villalbilla, Collado Villalba, Alcobendas, El Molar (Madrid), Moraleja de Enmedio, Algete, Campo Real, Torrejón de la Calzada, Colmenar Viejo, Valdemorillo, Fuente El Saz de Jarama, Tres Cantos, Arroyomolinos (Madrid), Griñón, Paracuellos de Jarama, Guadarrama, Titulcia, Galapagar, Collado Mediano, Los Molinos, San Lorenzo de El Escorial, Loeches, San Martín de Valdeiglesias, Navas del Rey, Bustarviejo, Manzanares El Real, Carabaña, Casarrubuelos, Cercedilla, Fresnedillas de la Oliva, Valdemaqueda, Robledo de Chavela, Miraflores de la Sierra, Humanes de Madrid, Valdetorres de Jarama, San Agustín del Guadalix, Ciempozuelos, Camarma de Esteruelas, Torres de la Alameda, Talamanca de Jarama, El Atazar, Hoyo de Manzanares, El Boalo - Cerceda – Mataelpino, El Álamo, Valdilecha, Valdeolmos-Alalpardo, Guadalix de la Sierra, Belmonte de Tajo, El Vellón, Brunete, Redueña, Morata de Tajuña, Tielmes, Gargantilla del Lozoya, Meco, Venturada, Quijorna, Cenicientos, Torrejón de Velasco, Navacerrada, Santa María de la Alameda, Orusco de Tajuña, Daganzo de Arriba, Villamanta, Anchuelo, Valdaracete, Ajalvir, Los Santos de la Humosa, Villamanrique de Tajo, Colmenar de Oreja, Villa del Prado, Fuentidueña de Tajo, Colmenar del Arroyo, Valdelaguna, Cubas de la Sagra, Valdeavero, Aldea del Fresno, Ribatejada, Torrelaguna, Batres, Pezuela de las Torres, Colmenarejo, Serranillos del Valle, Cobeña, Soto del Real, El Berrueco, Villanueva de Perales, Fresno de Torote - Serracines, Pozuelo del Rey, Pelayos de la Presa, La Cabrera, Nuevo Baztán, Perales de Tajuña, Villaconejos, Villarejo de Salvanés, Cadalso de los Vidrios, Santorcaz, Madarcos, Garganta de los Montes, Puentes Viejas, Torremocha de Jarama, Valdemanco, Braojos, Lozoyuela-navas-sieteiglesias, Piñuécar-gandullas, Valdepiélagos, Valverde de Alcalá, Villar del Olmo, Villamantilla, Horcajo de la Sierra, Gascones, Zarzalejo, Villavieja del Lozoya, Brea de Tajo, Estremera, Chapinería, Navarredonda, Patones, Ambite, Navalafuente, Lozoya, Canencia, Cabanillas de la Sierra, Buitrago del Lozoya, Fresno de Torote, Robregordo, Pinilla del Valle, Rascafría, La Hiruela, Montejo de la Sierra\n"
          ]
        }
      ],
      "source": [
        "\n",
        "population = ds['level5'].unique()\n",
        "separ = \", \".join(population)\n",
        "print(separ)"
      ]
    },
    {
      "attachments": {},
      "cell_type": "markdown",
      "id": "crazy-blame",
      "metadata": {},
      "source": [
        "#### Ejercicio 05. ¿El dataset contiene valores no admitidos (NAs)? (★☆☆)\n",
        "\n",
        "Imprima un booleano (`True` o `False`) seguido de la fila/columna que contiene el NAs."
      ]
    },
    {
      "cell_type": "code",
      "execution_count": 8,
      "id": "transparent-poetry",
      "metadata": {},
      "outputs": [
        {
          "name": "stdout",
          "output_type": "stream",
          "text": [
            "True Si contiene NAs, en las siguientes columnas Index(['realEstate_name', 'phone_realEstate', 'rooms', 'bathrooms', 'surface',\n",
            "       'description', 'level4', 'level6', 'level7', 'level8', 'zipCode',\n",
            "       'customZone'],\n",
            "      dtype='object')\n",
            "realEstate_name        10\n",
            "phone_realEstate      794\n",
            "rooms                 353\n",
            "bathrooms             345\n",
            "surface              1250\n",
            "description           142\n",
            "level4               6643\n",
            "level6              14627\n",
            "level7               2277\n",
            "level8               8579\n",
            "zipCode             15335\n",
            "customZone          15335\n",
            "dtype: int64\n"
          ]
        }
      ],
      "source": [
        "# TODO\n",
        "nas = ds.isnull().any().any()\n",
        "Columnas_con_nas = ds.columns[ds.isnull().any()]\n",
        "contador = ds[Columnas_con_nas].isnull().sum() \n",
        "#Cuantas columnas continen NAs y cuantos, y luego eliminar las columnas que más tengan y evaluar si ahora es necesario eliminar los NAs de las filas.\n",
        "print(nas,'Si contiene NAs, en las siguientes columnas',(Columnas_con_nas))\n",
        "print(contador)\n"
      ]
    },
    {
      "attachments": {},
      "cell_type": "markdown",
      "id": "italic-hydrogen",
      "metadata": {},
      "source": [
        "#### Ejercicio 06. Elimina los NAs del dataset, si aplica (★★☆)\n",
        "\n",
        "Imprima una comparación entre las dimensiones del DataFrame original versus el DataFrame después de las eliminaciones.\n"
      ]
    },
    {
      "cell_type": "code",
      "execution_count": 9,
      "id": "administrative-roads",
      "metadata": {},
      "outputs": [
        {
          "name": "stdout",
          "output_type": "stream",
          "text": [
            "Data set original: (15335, 37) Data set modificado: (15335, 33)\n",
            "Esto sería el resultado de eliminar las filas con valores nulos(Una vez eliminadas la 4 columnas anteriores): (5367, 33)\n"
          ]
        }
      ],
      "source": [
        "# TODO\n",
        "# Según los datos anterios, se ha decido eliminar 4 filas, que la mayoría de sus valores eran nulos.\n",
        "ds_clean = ds.drop(columns=['zipCode','customZone','level6','level8'])\n",
        "cl = ds_clean.dropna()\n",
        "\n",
        "print('Data set original:',ds.shape,'Data set modificado:',ds_clean.shape)\n",
        "print('Esto sería el resultado de eliminar las filas con valores nulos(Una vez eliminadas la 4 columnas anteriores):',cl.shape)"
      ]
    },
    {
      "attachments": {},
      "cell_type": "markdown",
      "id": "middle-china",
      "metadata": {},
      "source": [
        "#### Ejercicio 07. ¿Cuál la media de precios en la población (columna level5) de \"Arroyomolinos (Madrid)\"? (★★☆)\n",
        "\n",
        "Imprima el valor obtenido."
      ]
    },
    {
      "cell_type": "code",
      "execution_count": 10,
      "id": "nuclear-belief",
      "metadata": {},
      "outputs": [
        {
          "name": "stdout",
          "output_type": "stream",
          "text": [
            "La media en \"Arroyomolinos (Madrid)\" es de: 294541.6\n"
          ]
        }
      ],
      "source": [
        "# TODO\n",
        "arroyomolinos = ds[ds['level5'] == \"Arroyomolinos (Madrid)\"]\n",
        "media_arroyomolinos = arroyomolinos['price'].mean()\n",
        "print('La media en \"Arroyomolinos (Madrid)\" es de:',round(media_arroyomolinos,2))"
      ]
    },
    {
      "attachments": {},
      "cell_type": "markdown",
      "id": "concerned-radical",
      "metadata": {},
      "source": [
        "#### Ejercicio 08. Trazar el histograma de los precios para la población (level5 column) de \"Arroyomolinos (Madrid)\" y explica qué observas (★★☆)\n",
        "\n",
        "Imprime el histograma de los precios y escribe en la celda del Markdown un breve análisis del trazado.\n"
      ]
    },
    {
      "cell_type": "code",
      "execution_count": 11,
      "id": "sudden-message",
      "metadata": {},
      "outputs": [
        {
          "data": {
            "image/png": "[encoded data removed]",
            "text/plain": [
              "<Figure size 640x480 with 1 Axes>"
            ]
          },
          "metadata": {},
          "output_type": "display_data"
        }
      ],
      "source": [
        "# TODO: Code\n",
        "import matplotlib.pyplot as plt\n",
        "\n",
        "histograma1 = plt.hist(arroyomolinos['price'],bins=30,color='b')\n",
        "plt.show()"
      ]
    },
    {
      "attachments": {},
      "cell_type": "markdown",
      "id": "impressed-combination",
      "metadata": {},
      "source": [
        "La mayoría de las viviendas tienen un precio cercano a los 290.000 €. Sería interesante analizar si comparten características en común. Si estamos considerando comprar una vivienda, este precio podría ser una buena referencia.\n",
        "\n",
        "Además, se observa una ligera tendencia al alza en los precios.\n"
      ]
    },
    {
      "attachments": {},
      "cell_type": "markdown",
      "id": "actual-edinburgh",
      "metadata": {},
      "source": [
        "#### Ejercicio 09. ¿Son los precios promedios de \"Valdemorillo\" y \"Galapagar\" los mismos? (★★☆)\n",
        "\n",
        "Imprime ambos promedios y escribe una conclusión sobre ellos."
      ]
    },
    {
      "cell_type": "code",
      "execution_count": 12,
      "id": "numeric-commerce",
      "metadata": {},
      "outputs": [
        {
          "name": "stdout",
          "output_type": "stream",
          "text": [
            "El precio promedio de Valdemorillo es de: 363860.29\n",
            "El precio promedio de Galapagar es de: 360063.2\n",
            "No, aunque el precio promedio de las dos zonas son muy similares, no son exactamente iguales, en Valedemorillo son ligeramente más altos, con una diferencia de 3797€\n"
          ]
        }
      ],
      "source": [
        "# TODO\n",
        "valdemorillo = ds[ds['level5'] == \"Valdemorillo\"]\n",
        "galapagar = ds[ds['level5'] == \"Galapagar\"]\n",
        "\n",
        "valdemorillo_prom = valdemorillo['price'].mean()\n",
        "galapagar_prom = galapagar['price'].mean()\n",
        "\n",
        "print('El precio promedio de Valdemorillo es de:',round(valdemorillo_prom,2))\n",
        "print('El precio promedio de Galapagar es de:',round(galapagar_prom,2))\n",
        "print('No, aunque el precio promedio de las dos zonas son muy similares, no son exactamente iguales, en Valedemorillo son ligeramente más altos, con una diferencia de 3797€')\n",
        "                   "
      ]
    },
    {
      "attachments": {},
      "cell_type": "markdown",
      "id": "lonely-article",
      "metadata": {},
      "source": [
        "#### Ejercicio 10. ¿Son los promedios de precio por metro cuadrado (precio/m2) de \"Valdemorillo\" y \"Galapagar\" los mismos? (★★☆)\n",
        "\n",
        "Imprime ambos promedios de precio por metro cuadrado y escribe una conclusión sobre ellos.\n",
        "\n",
        "Pista: Crea una nueva columna llamada `pps` (*price per square* o precio por metro cuadrado) y luego analiza los valores."
      ]
    },
    {
      "cell_type": "code",
      "execution_count": 13,
      "id": "hourly-globe",
      "metadata": {},
      "outputs": [
        {
          "ename": "KeyError",
          "evalue": "'pps'",
          "output_type": "error",
          "traceback": [
            "\u001b[0;31m---------------------------------------------------------------------------\u001b[0m",
            "\u001b[0;31mKeyError\u001b[0m                                  Traceback (most recent call last)",
            "File \u001b[0;32m~/.local/lib/python3.11/site-packages/pandas/core/indexes/base.py:3805\u001b[0m, in \u001b[0;36mIndex.get_loc\u001b[0;34m(self, key)\u001b[0m\n\u001b[1;32m   3804\u001b[0m \u001b[38;5;28;01mtry\u001b[39;00m:\n\u001b[0;32m-> 3805\u001b[0m     \u001b[38;5;28;01mreturn\u001b[39;00m \u001b[38;5;28;43mself\u001b[39;49m\u001b[38;5;241;43m.\u001b[39;49m\u001b[43m_engine\u001b[49m\u001b[38;5;241;43m.\u001b[39;49m\u001b[43mget_loc\u001b[49m\u001b[43m(\u001b[49m\u001b[43mcasted_key\u001b[49m\u001b[43m)\u001b[49m\n\u001b[1;32m   3806\u001b[0m \u001b[38;5;28;01mexcept\u001b[39;00m \u001b[38;5;167;01mKeyError\u001b[39;00m \u001b[38;5;28;01mas\u001b[39;00m err:\n",
            "File \u001b[0;32mindex.pyx:167\u001b[0m, in \u001b[0;36mpandas._libs.index.IndexEngine.get_loc\u001b[0;34m()\u001b[0m\n",
            "File \u001b[0;32mindex.pyx:196\u001b[0m, in \u001b[0;36mpandas._libs.index.IndexEngine.get_loc\u001b[0;34m()\u001b[0m\n",
            "File \u001b[0;32mpandas/_libs/hashtable_class_helper.pxi:7081\u001b[0m, in \u001b[0;36mpandas._libs.hashtable.PyObjectHashTable.get_item\u001b[0;34m()\u001b[0m\n",
            "File \u001b[0;32mpandas/_libs/hashtable_class_helper.pxi:7089\u001b[0m, in \u001b[0;36mpandas._libs.hashtable.PyObjectHashTable.get_item\u001b[0;34m()\u001b[0m\n",
            "\u001b[0;31mKeyError\u001b[0m: 'pps'",
            "\nThe above exception was the direct cause of the following exception:\n",
            "\u001b[0;31mKeyError\u001b[0m                                  Traceback (most recent call last)",
            "Cell \u001b[0;32mIn[13], line 4\u001b[0m\n\u001b[1;32m      1\u001b[0m \u001b[38;5;66;03m# TODO\u001b[39;00m\n\u001b[1;32m      2\u001b[0m ds[\u001b[38;5;124m'\u001b[39m\u001b[38;5;124mpps\u001b[39m\u001b[38;5;124m'\u001b[39m] \u001b[38;5;241m=\u001b[39m ds[\u001b[38;5;124m'\u001b[39m\u001b[38;5;124mprice\u001b[39m\u001b[38;5;124m'\u001b[39m] \u001b[38;5;241m/\u001b[39m ds[\u001b[38;5;124m'\u001b[39m\u001b[38;5;124msurface\u001b[39m\u001b[38;5;124m'\u001b[39m]\n\u001b[0;32m----> 4\u001b[0m pps_valdemorillo \u001b[38;5;241m=\u001b[39m \u001b[43mvaldemorillo\u001b[49m\u001b[43m[\u001b[49m\u001b[38;5;124;43m'\u001b[39;49m\u001b[38;5;124;43mpps\u001b[39;49m\u001b[38;5;124;43m'\u001b[39;49m\u001b[43m]\u001b[49m\u001b[38;5;241m.\u001b[39mdropna()\u001b[38;5;241m.\u001b[39mmean()\n\u001b[1;32m      5\u001b[0m pps_galapagar \u001b[38;5;241m=\u001b[39m galapagar[\u001b[38;5;124m'\u001b[39m\u001b[38;5;124mpps\u001b[39m\u001b[38;5;124m'\u001b[39m]\u001b[38;5;241m.\u001b[39mdropna()\u001b[38;5;241m.\u001b[39mmean()\n\u001b[1;32m      8\u001b[0m \u001b[38;5;28mprint\u001b[39m(\u001b[38;5;124m'\u001b[39m\u001b[38;5;124mEl precio promedio por m2 de Valdemorillo es de:\u001b[39m\u001b[38;5;124m'\u001b[39m,\u001b[38;5;28mround\u001b[39m(pps_valdemorillo,\u001b[38;5;241m2\u001b[39m))\n",
            "File \u001b[0;32m~/.local/lib/python3.11/site-packages/pandas/core/frame.py:4102\u001b[0m, in \u001b[0;36mDataFrame.__getitem__\u001b[0;34m(self, key)\u001b[0m\n\u001b[1;32m   4100\u001b[0m \u001b[38;5;28;01mif\u001b[39;00m \u001b[38;5;28mself\u001b[39m\u001b[38;5;241m.\u001b[39mcolumns\u001b[38;5;241m.\u001b[39mnlevels \u001b[38;5;241m>\u001b[39m \u001b[38;5;241m1\u001b[39m:\n\u001b[1;32m   4101\u001b[0m     \u001b[38;5;28;01mreturn\u001b[39;00m \u001b[38;5;28mself\u001b[39m\u001b[38;5;241m.\u001b[39m_getitem_multilevel(key)\n\u001b[0;32m-> 4102\u001b[0m indexer \u001b[38;5;241m=\u001b[39m \u001b[38;5;28;43mself\u001b[39;49m\u001b[38;5;241;43m.\u001b[39;49m\u001b[43mcolumns\u001b[49m\u001b[38;5;241;43m.\u001b[39;49m\u001b[43mget_loc\u001b[49m\u001b[43m(\u001b[49m\u001b[43mkey\u001b[49m\u001b[43m)\u001b[49m\n\u001b[1;32m   4103\u001b[0m \u001b[38;5;28;01mif\u001b[39;00m is_integer(indexer):\n\u001b[1;32m   4104\u001b[0m     indexer \u001b[38;5;241m=\u001b[39m [indexer]\n",
            "File \u001b[0;32m~/.local/lib/python3.11/site-packages/pandas/core/indexes/base.py:3812\u001b[0m, in \u001b[0;36mIndex.get_loc\u001b[0;34m(self, key)\u001b[0m\n\u001b[1;32m   3807\u001b[0m     \u001b[38;5;28;01mif\u001b[39;00m \u001b[38;5;28misinstance\u001b[39m(casted_key, \u001b[38;5;28mslice\u001b[39m) \u001b[38;5;129;01mor\u001b[39;00m (\n\u001b[1;32m   3808\u001b[0m         \u001b[38;5;28misinstance\u001b[39m(casted_key, abc\u001b[38;5;241m.\u001b[39mIterable)\n\u001b[1;32m   3809\u001b[0m         \u001b[38;5;129;01mand\u001b[39;00m \u001b[38;5;28many\u001b[39m(\u001b[38;5;28misinstance\u001b[39m(x, \u001b[38;5;28mslice\u001b[39m) \u001b[38;5;28;01mfor\u001b[39;00m x \u001b[38;5;129;01min\u001b[39;00m casted_key)\n\u001b[1;32m   3810\u001b[0m     ):\n\u001b[1;32m   3811\u001b[0m         \u001b[38;5;28;01mraise\u001b[39;00m InvalidIndexError(key)\n\u001b[0;32m-> 3812\u001b[0m     \u001b[38;5;28;01mraise\u001b[39;00m \u001b[38;5;167;01mKeyError\u001b[39;00m(key) \u001b[38;5;28;01mfrom\u001b[39;00m\u001b[38;5;250m \u001b[39m\u001b[38;5;21;01merr\u001b[39;00m\n\u001b[1;32m   3813\u001b[0m \u001b[38;5;28;01mexcept\u001b[39;00m \u001b[38;5;167;01mTypeError\u001b[39;00m:\n\u001b[1;32m   3814\u001b[0m     \u001b[38;5;66;03m# If we have a listlike key, _check_indexing_error will raise\u001b[39;00m\n\u001b[1;32m   3815\u001b[0m     \u001b[38;5;66;03m#  InvalidIndexError. Otherwise we fall through and re-raise\u001b[39;00m\n\u001b[1;32m   3816\u001b[0m     \u001b[38;5;66;03m#  the TypeError.\u001b[39;00m\n\u001b[1;32m   3817\u001b[0m     \u001b[38;5;28mself\u001b[39m\u001b[38;5;241m.\u001b[39m_check_indexing_error(key)\n",
            "\u001b[0;31mKeyError\u001b[0m: 'pps'"
          ]
        }
      ],
      "source": [
        "# TODO\n",
        "ds['pps'] = ds['price'] / ds['surface']\n",
        "\n",
        "pps_valdemorillo = valdemorillo['pps'].dropna().mean()\n",
        "pps_galapagar = galapagar['pps'].dropna().mean()\n",
        "\n",
        "\n",
        "print('El precio promedio por m2 de Valdemorillo es de:',round(pps_valdemorillo,2))\n",
        "print('El precio promedio por m2 de Galapagar es de:',round(pps_galapagar,2))\n",
        "print('Se puede observar que el precio promedio por m2 es más alto en Galapagar, lo que nos dice que bien si el precio promedio es similar entre las dos zonas, en Valdemorillo las viviendas podrían ser más grandes')"
      ]
    },
    {
      "attachments": {},
      "cell_type": "markdown",
      "id": "pleasant-invite",
      "metadata": {},
      "source": [
        "#### Ejercicio 11. Analiza la relación entre la superficie y el precio de las casas. (★★☆)\n",
        "\n",
        "Pista: Puedes hacer un `scatter plot` y luego escribir una conclusión al respecto."
      ]
    },
    {
      "cell_type": "code",
      "execution_count": null,
      "id": "common-drilling",
      "metadata": {},
      "outputs": [
        {
          "data": {
            "image/png": "[encoded data removed]",
            "text/plain": [
              "<Figure size 640x480 with 1 Axes>"
            ]
          },
          "metadata": {},
          "output_type": "display_data"
        }
      ],
      "source": [
        "# TODO: Código\n",
        "pps_clean = ds.dropna(subset=['surface','price'])\n",
        "eje_price = pps_clean['price']\n",
        "eje_surface = pps_clean['surface']\n",
        "\n",
        "\n",
        "plt.scatter(eje_surface,eje_price,s=1)\n",
        "plt.xlim(0,600)\n",
        "plt.ylim(5000,900000)\n",
        "\n",
        "plt.show()\n"
      ]
    },
    {
      "attachments": {},
      "cell_type": "markdown",
      "id": "ahead-liquid",
      "metadata": {},
      "source": [
        "Se puede observar que hay una alta concentración de viviendas por debajo de los 300000€ y 150 m2. Además, en general, a medida que aumenta la superficie, el precio tiende a ser mayor, aunque existen algunas excepciones. También se aprecia una mayor dispersión de precios en viviendas más grandes, lo que indica que otros factores además del tamaño pueden influir en el valor de la propiedad."
      ]
    },
    {
      "attachments": {},
      "cell_type": "markdown",
      "id": "coordinate-sunrise",
      "metadata": {},
      "source": [
        "#### Ejercicio 12. ¿Cuántas agencia de bienes raíces contiene el dataset? (★★☆)\n",
        "\n",
        "Imprime el valor obtenido."
      ]
    },
    {
      "cell_type": "code",
      "execution_count": null,
      "id": "valid-honolulu",
      "metadata": {},
      "outputs": [
        {
          "name": "stdout",
          "output_type": "stream",
          "text": [
            "Según el dataset, hay 1821 inmobiliarias. Cabe destacar que dentro de este número pueden incluirse particulares.\n"
          ]
        }
      ],
      "source": [
        "# TODO\n",
        "print('Según el dataset, hay',ds['realEstate_name'].dropna().nunique(),'inmobiliarias. Cabe destacar que dentro de este número pueden incluirse particulares.')"
      ]
    },
    {
      "attachments": {},
      "cell_type": "markdown",
      "id": "binding-ebony",
      "metadata": {},
      "source": [
        "#### Ejercicio 13. ¿Cuál es la población (columna level5) que contiene la mayor cantidad de casas?(★★☆)\n",
        "\n",
        "Imprima la población y el número de casas."
      ]
    },
    {
      "cell_type": "code",
      "execution_count": null,
      "id": "static-perry",
      "metadata": {},
      "outputs": [
        {
          "name": "stdout",
          "output_type": "stream",
          "text": [
            "La población que contiene la mayor cantidad de casas es  Madrid Capital\n"
          ]
        }
      ],
      "source": [
        "# TODO\n",
        "poblacion_casas = ds['level5'].value_counts()\n",
        "print('La población que contiene la mayor cantidad de casas es',poblacion_casas.idxmax())"
      ]
    },
    {
      "attachments": {},
      "cell_type": "markdown",
      "id": "entire-classification",
      "metadata": {},
      "source": [
        "#### Ejercicio 14. Ahora vamos a trabajar con el \"cinturón sur\" de Madrid. Haz un subconjunto del DataFrame original que contenga las siguientes poblaciones (columna level5): \"Fuenlabrada\", \"Leganés\", \"Getafe\", \"Alcorcón\" (★★☆)\n",
        "\n",
        "Pista: Filtra el DataFrame original usando la columna `level5` y la función `isin`."
      ]
    },
    {
      "cell_type": "code",
      "execution_count": 14,
      "id": "binary-input",
      "metadata": {},
      "outputs": [
        {
          "name": "stdout",
          "output_type": "stream",
          "text": [
            "       Unnamed: 0  id_realEstates  isNew  \\\n",
            "1               2       153867863  False   \n",
            "3               4       152776331  False   \n",
            "85             86       153152077  False   \n",
            "94             95       153995577  False   \n",
            "109           110       153586414  False   \n",
            "...           ...             ...    ...   \n",
            "15275       15276       153903887  False   \n",
            "15291       15292       151697757  False   \n",
            "15305       15306       153902389  False   \n",
            "15322       15323       153871864  False   \n",
            "15325       15326       153901467  False   \n",
            "\n",
            "                                 realEstate_name  phone_realEstate  \\\n",
            "1              tecnocasa fuenlabrada ferrocarril       916358736.0   \n",
            "3              tecnocasa fuenlabrada ferrocarril       916358736.0   \n",
            "85                       sinergical inmobiliaria               NaN   \n",
            "94                               viviendas365com       911226014.0   \n",
            "109              area uno asesores inmobiliarios       912664081.0   \n",
            "...                                          ...               ...   \n",
            "15275  aliseda servicios de gestion inmobiliaria       911368198.0   \n",
            "15291                                    unipiso       912788631.0   \n",
            "15305                             jadein ferrero       914871639.0   \n",
            "15322                          gestion comercial       911220662.0   \n",
            "15325                              montehogar 68       911790675.0   \n",
            "\n",
            "                                            url_inmueble  rooms  bathrooms  \\\n",
            "1      https://www.fotocasa.es/es/comprar/vivienda/ma...    3.0        1.0   \n",
            "3      https://www.fotocasa.es/es/comprar/vivienda/ma...    3.0        1.0   \n",
            "85     https://www.fotocasa.es/es/comprar/vivienda/le...    1.0        1.0   \n",
            "94     https://www.fotocasa.es/es/comprar/vivienda/le...    3.0        2.0   \n",
            "109    https://www.fotocasa.es/es/comprar/vivienda/ma...    3.0        3.0   \n",
            "...                                                  ...    ...        ...   \n",
            "15275  https://www.fotocasa.es/es/comprar/vivienda/al...    3.0        1.0   \n",
            "15291  https://www.fotocasa.es/es/comprar/vivienda/al...    3.0        2.0   \n",
            "15305  https://www.fotocasa.es/es/comprar/vivienda/ma...    3.0        2.0   \n",
            "15322  https://www.fotocasa.es/es/comprar/vivienda/ma...    3.0        1.0   \n",
            "15325  https://www.fotocasa.es/es/comprar/vivienda/ma...    2.0        2.0   \n",
            "\n",
            "       surface   price  ... level5Id level6Id level7Id level8Id accuracy  \\\n",
            "1          NaN   89000  ...        0        0        0        0        1   \n",
            "3         86.0   89000  ...        0        0        0        0        0   \n",
            "85        50.0  107000  ...        0        0        0        0        1   \n",
            "94       120.0  320000  ...        0        0        0        0        0   \n",
            "109      142.0  425000  ...        0        0        0        0        0   \n",
            "...        ...     ...  ...      ...      ...      ...      ...      ...   \n",
            "15275     78.0  138000  ...        0        0        0        0        1   \n",
            "15291    110.0  279000  ...        0        0        0        0        0   \n",
            "15305     85.0  170000  ...        0        0        0        0        0   \n",
            "15322     91.0  112000  ...        0        0        0        0        0   \n",
            "15325     99.0  215000  ...        0        0        0        0        1   \n",
            "\n",
            "               latitude          longitude zipCode customZone          pps  \n",
            "1              40,28674           -3,79351     NaN        NaN          NaN  \n",
            "3      40,2853785786438  -3,79508142135624     NaN        NaN  1034.883721  \n",
            "85             40,35059           -3,82693     NaN        NaN  2140.000000  \n",
            "94             40,31933           -3,77574     NaN        NaN  2666.666667  \n",
            "109          40,3313411         -3,8313868     NaN        NaN  2992.957746  \n",
            "...                 ...                ...     ...        ...          ...  \n",
            "15275          40,31381           -3,83733     NaN        NaN  1769.230769  \n",
            "15291        40,3259051           -3,76318     NaN        NaN  2536.363636  \n",
            "15305        40,2882193         -3,8098617     NaN        NaN  2000.000000  \n",
            "15322          40,28282           -3,78892     NaN        NaN  1230.769231  \n",
            "15325          40,28062           -3,79869     NaN        NaN  2171.717172  \n",
            "\n",
            "[907 rows x 38 columns]\n"
          ]
        }
      ],
      "source": [
        "# TODO\n",
        "cinturón_sur = [\"Fuenlabrada\", \"Leganés\", \"Getafe\", \"Alcorcón\"]\n",
        "sub_ds = ds[ds['level5'].isin([\"Fuenlabrada\", \"Leganés\", \"Getafe\", \"Alcorcón\"])]\n",
        "print(sub_ds)"
      ]
    },
    {
      "attachments": {},
      "cell_type": "markdown",
      "id": "severe-fisher",
      "metadata": {},
      "source": [
        "#### Ejercicio 15. Traza un gráfico de barras de la mediana de los precios y explica lo que observas (debes usar el subconjunto obtenido del Ejercicio 14) (★★★)\n",
        "\n",
        "Imprima un gráfico de barras de la mediana de precios y escriba en la celda Markdown un breve análisis sobre el gráfico."
      ]
    },
    {
      "cell_type": "code",
      "execution_count": null,
      "id": "lyric-bunch",
      "metadata": {},
      "outputs": [
        {
          "data": {
            "text/plain": [
              "<function matplotlib.pyplot.show(close=None, block=None)>"
            ]
          },
          "execution_count": 47,
          "metadata": {},
          "output_type": "execute_result"
        },
        {
          "data": {
            "image/png": "[encoded data removed]",
            "text/plain": [
              "<Figure size 640x480 with 1 Axes>"
            ]
          },
          "metadata": {},
          "output_type": "display_data"
        }
      ],
      "source": [
        "# TODO: Code\n",
        "\n",
        "mediana_sur = sub_ds.groupby('level5')['price'].median()\n",
        "\n",
        "xlabel = [mediana_sur.get(ciudad,0)for ciudad in cinturón_sur]\n",
        "\n",
        "plt.bar(cinturón_sur,xlabel)\n",
        "plt.show\n"
      ]
    },
    {
      "attachments": {},
      "cell_type": "markdown",
      "id": "sublime-newspaper",
      "metadata": {},
      "source": [
        "En el gráfico se puede observar que la zona con la mediana más alta es Getafe, esto se puede deber a una mayor demanda inmobiliaria, algunos factores que pueden influir son:\n",
        "- Tiene mejores conexiones de transporte con Madrid.\n",
        "- El nivel socioeconómico es mayor.\n",
        "- Mayor calidad en las propiedades ofertadas. \n",
        "- etc.\n",
        "\n",
        "Si estamos analizando para hacer una inversión sería interesante averiguar las razones de porqué Getafe tiene una mediana más alta que las otra zonas y si la tendencia seguirá igual. O por el contrario observar si zonas como Fuenlabrada tiene potencial de crecimiento.\n"
      ]
    },
    {
      "attachments": {},
      "cell_type": "markdown",
      "id": "speaking-diamond",
      "metadata": {},
      "source": [
        "#### Ejercicio 16. Calcula la media y la varianza de muestra para las siguientes variables: precio, habitaciones, superficie y baños (debes usar el subconjunto obtenido del Ejercicio 14) (★★★)\n",
        "\n",
        "Imprime ambos valores por cada variable."
      ]
    },
    {
      "cell_type": "code",
      "execution_count": null,
      "id": "random-feeling",
      "metadata": {},
      "outputs": [
        {
          "name": "stdout",
          "output_type": "stream",
          "text": [
            "rooms             3.02\n",
            "surface         111.75\n",
            "bathrooms         1.63\n",
            "price        223094.48\n",
            "dtype: float64 rooms        7.188859e-01\n",
            "surface      4.263052e+03\n",
            "bathrooms    5.717969e-01\n",
            "price        1.492137e+10\n",
            "dtype: float64\n"
          ]
        }
      ],
      "source": [
        "# TODO\n",
        "variables = ['rooms','surface','bathrooms','price']\n",
        "media_sur = sub_ds[variables].mean()\n",
        "var_sur = sub_ds[variables].var()\n",
        " \n",
        "print(round(media_sur,2),var_sur)\n"
      ]
    },
    {
      "attachments": {},
      "cell_type": "markdown",
      "id": "revolutionary-matrix",
      "metadata": {},
      "source": [
        "#### Ejercicio 17. ¿Cuál es la casa más cara de cada población? Debes usar el subset obtenido en la pregunta 14 (★★☆)\n",
        "\n",
        "Imprime tanto la dirección como el precio de la casa seleccionada de cada población. Puedes imprimir un DataFrame o una sola línea para cada población."
      ]
    },
    {
      "cell_type": "code",
      "execution_count": 15,
      "id": "fifteen-browse",
      "metadata": {},
      "outputs": [
        {
          "name": "stdout",
          "output_type": "stream",
          "text": [
            "               price                                            address\n",
            "level5                                                                 \n",
            "Alcorcón      950000                      Travesia Nuncio del, Alcorcón\n",
            "Fuenlabrada   490000  Urbanización Urbanización Parque Miraflores, 5...\n",
            "Getafe       1050000                           San Sebastián, 1, Getafe\n",
            "Leganés       650000     Plaza Pza España, Gran Oportunidad!!!, Leganés\n"
          ]
        }
      ],
      "source": [
        "# TODO\n",
        "# pide = 'address','price'\n",
        "mayor_precio = sub_ds.groupby('level5')[['price','address']].max()\n",
        "print(mayor_precio)\n"
      ]
    },
    {
      "attachments": {},
      "cell_type": "markdown",
      "id": "activated-knight",
      "metadata": {},
      "source": [
        "#### Ejercicio 18. Normaliza la variable de precios para cada población y traza los 4 histogramas en el mismo gráfico (debes usar el subconjunto obtenido en la pregunta 14) (★★★)\n",
        "\n",
        "Para el método de normalización, puedes usar el que consideres adecuado, no hay una única respuesta correcta para esta pregunta. Imprime el gráfico y escribe en la celda de Markdown un breve análisis sobre el gráfico.\n",
        "\n",
        "Pista: Puedes ayudarte revisando la demostración multihist de Matplotlib."
      ]
    },
    {
      "cell_type": "code",
      "execution_count": 38,
      "id": "civic-meditation",
      "metadata": {},
      "outputs": [
        {
          "name": "stderr",
          "output_type": "stream",
          "text": [
            "/tmp/ipykernel_443/2707894697.py:4: SettingWithCopyWarning: \n",
            "A value is trying to be set on a copy of a slice from a DataFrame.\n",
            "Try using .loc[row_indexer,col_indexer] = value instead\n",
            "\n",
            "See the caveats in the documentation: https://pandas.pydata.org/pandas-docs/stable/user_guide/indexing.html#returning-a-view-versus-a-copy\n",
            "  sub_ds['precios_normalizados'] = (sub_ds['price'] - mini)/(maxi - mini)\n"
          ]
        },
        {
          "name": "stdout",
          "output_type": "stream",
          "text": [
            "            level5   price  precios_normalizados\n",
            "1      Fuenlabrada   89000              0.000000\n",
            "3      Fuenlabrada   89000              0.000000\n",
            "85        Alcorcón  107000              0.018055\n",
            "94         Leganés  320000              0.440678\n",
            "109       Alcorcón  425000              0.388468\n",
            "...            ...     ...                   ...\n",
            "15275  Fuenlabrada  138000              0.122195\n",
            "15291      Leganés  279000              0.371186\n",
            "15305  Fuenlabrada  170000              0.201995\n",
            "15322  Fuenlabrada  112000              0.057357\n",
            "15325  Fuenlabrada  215000              0.314214\n",
            "\n",
            "[907 rows x 3 columns]\n"
          ]
        },
        {
          "ename": "ValueError",
          "evalue": "`bins` must increase monotonically, when an array",
          "output_type": "error",
          "traceback": [
            "\u001b[0;31m---------------------------------------------------------------------------\u001b[0m",
            "\u001b[0;31mValueError\u001b[0m                                Traceback (most recent call last)",
            "Cell \u001b[0;32mIn[38], line 12\u001b[0m\n\u001b[1;32m      8\u001b[0m fig, ax \u001b[38;5;241m=\u001b[39m plt\u001b[38;5;241m.\u001b[39msubplots()\n\u001b[1;32m     10\u001b[0m edgecolors \u001b[38;5;241m=\u001b[39m [\u001b[38;5;124m'\u001b[39m\u001b[38;5;124mgreen\u001b[39m\u001b[38;5;124m'\u001b[39m, \u001b[38;5;124m'\u001b[39m\u001b[38;5;124mred\u001b[39m\u001b[38;5;124m'\u001b[39m, \u001b[38;5;124m'\u001b[39m\u001b[38;5;124mblue\u001b[39m\u001b[38;5;124m'\u001b[39m]\n\u001b[0;32m---> 12\u001b[0m \u001b[43max\u001b[49m\u001b[38;5;241;43m.\u001b[39;49m\u001b[43mhist\u001b[49m\u001b[43m(\u001b[49m\u001b[43mcinturón_sur\u001b[49m\u001b[43m,\u001b[49m\u001b[43m \u001b[49m\u001b[43msub_ds\u001b[49m\u001b[43m[\u001b[49m\u001b[38;5;124;43m'\u001b[39;49m\u001b[38;5;124;43mprecios_normalizados\u001b[39;49m\u001b[38;5;124;43m'\u001b[39;49m\u001b[43m]\u001b[49m\u001b[43m,\u001b[49m\u001b[43m \u001b[49m\u001b[43mfill\u001b[49m\u001b[38;5;241;43m=\u001b[39;49m\u001b[38;5;28;43;01mFalse\u001b[39;49;00m\u001b[43m,\u001b[49m\u001b[43m \u001b[49m\u001b[43mhisttype\u001b[49m\u001b[38;5;241;43m=\u001b[39;49m\u001b[38;5;124;43m\"\u001b[39;49m\u001b[38;5;124;43mstep\u001b[39;49m\u001b[38;5;124;43m\"\u001b[39;49m\u001b[43m,\u001b[49m\u001b[43m \u001b[49m\u001b[43mstacked\u001b[49m\u001b[38;5;241;43m=\u001b[39;49m\u001b[38;5;28;43;01mTrue\u001b[39;49;00m\u001b[43m,\u001b[49m\n\u001b[1;32m     13\u001b[0m \u001b[43m        \u001b[49m\u001b[43medgecolor\u001b[49m\u001b[38;5;241;43m=\u001b[39;49m\u001b[43medgecolors\u001b[49m\u001b[43m,\u001b[49m\u001b[43m \u001b[49m\u001b[43mlabel\u001b[49m\u001b[38;5;241;43m=\u001b[39;49m\u001b[43medgecolors\u001b[49m\u001b[43m)\u001b[49m\n\u001b[1;32m     14\u001b[0m ax\u001b[38;5;241m.\u001b[39mlegend()\n\u001b[1;32m     15\u001b[0m ax\u001b[38;5;241m.\u001b[39mset_title(\u001b[38;5;124m'\u001b[39m\u001b[38;5;124mStacked Steps with Edgecolors\u001b[39m\u001b[38;5;124m'\u001b[39m)\n",
            "File \u001b[0;32m~/.local/lib/python3.11/site-packages/matplotlib/_api/deprecation.py:453\u001b[0m, in \u001b[0;36mmake_keyword_only.<locals>.wrapper\u001b[0;34m(*args, **kwargs)\u001b[0m\n\u001b[1;32m    447\u001b[0m \u001b[38;5;28;01mif\u001b[39;00m \u001b[38;5;28mlen\u001b[39m(args) \u001b[38;5;241m>\u001b[39m name_idx:\n\u001b[1;32m    448\u001b[0m     warn_deprecated(\n\u001b[1;32m    449\u001b[0m         since, message\u001b[38;5;241m=\u001b[39m\u001b[38;5;124m\"\u001b[39m\u001b[38;5;124mPassing the \u001b[39m\u001b[38;5;132;01m%(name)s\u001b[39;00m\u001b[38;5;124m \u001b[39m\u001b[38;5;132;01m%(obj_type)s\u001b[39;00m\u001b[38;5;124m \u001b[39m\u001b[38;5;124m\"\u001b[39m\n\u001b[1;32m    450\u001b[0m         \u001b[38;5;124m\"\u001b[39m\u001b[38;5;124mpositionally is deprecated since Matplotlib \u001b[39m\u001b[38;5;132;01m%(since)s\u001b[39;00m\u001b[38;5;124m; the \u001b[39m\u001b[38;5;124m\"\u001b[39m\n\u001b[1;32m    451\u001b[0m         \u001b[38;5;124m\"\u001b[39m\u001b[38;5;124mparameter will become keyword-only in \u001b[39m\u001b[38;5;132;01m%(removal)s\u001b[39;00m\u001b[38;5;124m.\u001b[39m\u001b[38;5;124m\"\u001b[39m,\n\u001b[1;32m    452\u001b[0m         name\u001b[38;5;241m=\u001b[39mname, obj_type\u001b[38;5;241m=\u001b[39m\u001b[38;5;124mf\u001b[39m\u001b[38;5;124m\"\u001b[39m\u001b[38;5;124mparameter of \u001b[39m\u001b[38;5;132;01m{\u001b[39;00mfunc\u001b[38;5;241m.\u001b[39m\u001b[38;5;18m__name__\u001b[39m\u001b[38;5;132;01m}\u001b[39;00m\u001b[38;5;124m()\u001b[39m\u001b[38;5;124m\"\u001b[39m)\n\u001b[0;32m--> 453\u001b[0m \u001b[38;5;28;01mreturn\u001b[39;00m \u001b[43mfunc\u001b[49m\u001b[43m(\u001b[49m\u001b[38;5;241;43m*\u001b[39;49m\u001b[43margs\u001b[49m\u001b[43m,\u001b[49m\u001b[43m \u001b[49m\u001b[38;5;241;43m*\u001b[39;49m\u001b[38;5;241;43m*\u001b[39;49m\u001b[43mkwargs\u001b[49m\u001b[43m)\u001b[49m\n",
            "File \u001b[0;32m~/.local/lib/python3.11/site-packages/matplotlib/__init__.py:1521\u001b[0m, in \u001b[0;36m_preprocess_data.<locals>.inner\u001b[0;34m(ax, data, *args, **kwargs)\u001b[0m\n\u001b[1;32m   1518\u001b[0m \u001b[38;5;129m@functools\u001b[39m\u001b[38;5;241m.\u001b[39mwraps(func)\n\u001b[1;32m   1519\u001b[0m \u001b[38;5;28;01mdef\u001b[39;00m\u001b[38;5;250m \u001b[39m\u001b[38;5;21minner\u001b[39m(ax, \u001b[38;5;241m*\u001b[39margs, data\u001b[38;5;241m=\u001b[39m\u001b[38;5;28;01mNone\u001b[39;00m, \u001b[38;5;241m*\u001b[39m\u001b[38;5;241m*\u001b[39mkwargs):\n\u001b[1;32m   1520\u001b[0m     \u001b[38;5;28;01mif\u001b[39;00m data \u001b[38;5;129;01mis\u001b[39;00m \u001b[38;5;28;01mNone\u001b[39;00m:\n\u001b[0;32m-> 1521\u001b[0m         \u001b[38;5;28;01mreturn\u001b[39;00m \u001b[43mfunc\u001b[49m\u001b[43m(\u001b[49m\n\u001b[1;32m   1522\u001b[0m \u001b[43m            \u001b[49m\u001b[43max\u001b[49m\u001b[43m,\u001b[49m\n\u001b[1;32m   1523\u001b[0m \u001b[43m            \u001b[49m\u001b[38;5;241;43m*\u001b[39;49m\u001b[38;5;28;43mmap\u001b[39;49m\u001b[43m(\u001b[49m\u001b[43mcbook\u001b[49m\u001b[38;5;241;43m.\u001b[39;49m\u001b[43msanitize_sequence\u001b[49m\u001b[43m,\u001b[49m\u001b[43m \u001b[49m\u001b[43margs\u001b[49m\u001b[43m)\u001b[49m\u001b[43m,\u001b[49m\n\u001b[1;32m   1524\u001b[0m \u001b[43m            \u001b[49m\u001b[38;5;241;43m*\u001b[39;49m\u001b[38;5;241;43m*\u001b[39;49m\u001b[43m{\u001b[49m\u001b[43mk\u001b[49m\u001b[43m:\u001b[49m\u001b[43m \u001b[49m\u001b[43mcbook\u001b[49m\u001b[38;5;241;43m.\u001b[39;49m\u001b[43msanitize_sequence\u001b[49m\u001b[43m(\u001b[49m\u001b[43mv\u001b[49m\u001b[43m)\u001b[49m\u001b[43m \u001b[49m\u001b[38;5;28;43;01mfor\u001b[39;49;00m\u001b[43m \u001b[49m\u001b[43mk\u001b[49m\u001b[43m,\u001b[49m\u001b[43m \u001b[49m\u001b[43mv\u001b[49m\u001b[43m \u001b[49m\u001b[38;5;129;43;01min\u001b[39;49;00m\u001b[43m \u001b[49m\u001b[43mkwargs\u001b[49m\u001b[38;5;241;43m.\u001b[39;49m\u001b[43mitems\u001b[49m\u001b[43m(\u001b[49m\u001b[43m)\u001b[49m\u001b[43m}\u001b[49m\u001b[43m)\u001b[49m\n\u001b[1;32m   1526\u001b[0m     bound \u001b[38;5;241m=\u001b[39m new_sig\u001b[38;5;241m.\u001b[39mbind(ax, \u001b[38;5;241m*\u001b[39margs, \u001b[38;5;241m*\u001b[39m\u001b[38;5;241m*\u001b[39mkwargs)\n\u001b[1;32m   1527\u001b[0m     auto_label \u001b[38;5;241m=\u001b[39m (bound\u001b[38;5;241m.\u001b[39marguments\u001b[38;5;241m.\u001b[39mget(label_namer)\n\u001b[1;32m   1528\u001b[0m                   \u001b[38;5;129;01mor\u001b[39;00m bound\u001b[38;5;241m.\u001b[39mkwargs\u001b[38;5;241m.\u001b[39mget(label_namer))\n",
            "File \u001b[0;32m~/.local/lib/python3.11/site-packages/matplotlib/axes/_axes.py:7093\u001b[0m, in \u001b[0;36mAxes.hist\u001b[0;34m(self, x, bins, range, density, weights, cumulative, bottom, histtype, align, orientation, rwidth, log, color, label, stacked, **kwargs)\u001b[0m\n\u001b[1;32m   7089\u001b[0m \u001b[38;5;66;03m# Loop through datasets\u001b[39;00m\n\u001b[1;32m   7090\u001b[0m \u001b[38;5;28;01mfor\u001b[39;00m i \u001b[38;5;129;01min\u001b[39;00m \u001b[38;5;28mrange\u001b[39m(nx):\n\u001b[1;32m   7091\u001b[0m     \u001b[38;5;66;03m# this will automatically overwrite bins,\u001b[39;00m\n\u001b[1;32m   7092\u001b[0m     \u001b[38;5;66;03m# so that each histogram uses the same bins\u001b[39;00m\n\u001b[0;32m-> 7093\u001b[0m     m, bins \u001b[38;5;241m=\u001b[39m \u001b[43mnp\u001b[49m\u001b[38;5;241;43m.\u001b[39;49m\u001b[43mhistogram\u001b[49m\u001b[43m(\u001b[49m\u001b[43mx\u001b[49m\u001b[43m[\u001b[49m\u001b[43mi\u001b[49m\u001b[43m]\u001b[49m\u001b[43m,\u001b[49m\u001b[43m \u001b[49m\u001b[43mbins\u001b[49m\u001b[43m,\u001b[49m\u001b[43m \u001b[49m\u001b[43mweights\u001b[49m\u001b[38;5;241;43m=\u001b[39;49m\u001b[43mw\u001b[49m\u001b[43m[\u001b[49m\u001b[43mi\u001b[49m\u001b[43m]\u001b[49m\u001b[43m,\u001b[49m\u001b[43m \u001b[49m\u001b[38;5;241;43m*\u001b[39;49m\u001b[38;5;241;43m*\u001b[39;49m\u001b[43mhist_kwargs\u001b[49m\u001b[43m)\u001b[49m\n\u001b[1;32m   7094\u001b[0m     tops\u001b[38;5;241m.\u001b[39mappend(m)\n\u001b[1;32m   7095\u001b[0m tops \u001b[38;5;241m=\u001b[39m np\u001b[38;5;241m.\u001b[39marray(tops, \u001b[38;5;28mfloat\u001b[39m)  \u001b[38;5;66;03m# causes problems later if it's an int\u001b[39;00m\n",
            "File \u001b[0;32m~/.local/lib/python3.11/site-packages/numpy/lib/_histograms_impl.py:796\u001b[0m, in \u001b[0;36mhistogram\u001b[0;34m(a, bins, range, density, weights)\u001b[0m\n\u001b[1;32m    691\u001b[0m \u001b[38;5;250m\u001b[39m\u001b[38;5;124mr\u001b[39m\u001b[38;5;124;03m\"\"\"\u001b[39;00m\n\u001b[1;32m    692\u001b[0m \u001b[38;5;124;03mCompute the histogram of a dataset.\u001b[39;00m\n\u001b[1;32m    693\u001b[0m \n\u001b[0;32m   (...)\u001b[0m\n\u001b[1;32m    792\u001b[0m \n\u001b[1;32m    793\u001b[0m \u001b[38;5;124;03m\"\"\"\u001b[39;00m\n\u001b[1;32m    794\u001b[0m a, weights \u001b[38;5;241m=\u001b[39m _ravel_and_check_weights(a, weights)\n\u001b[0;32m--> 796\u001b[0m bin_edges, uniform_bins \u001b[38;5;241m=\u001b[39m \u001b[43m_get_bin_edges\u001b[49m\u001b[43m(\u001b[49m\u001b[43ma\u001b[49m\u001b[43m,\u001b[49m\u001b[43m \u001b[49m\u001b[43mbins\u001b[49m\u001b[43m,\u001b[49m\u001b[43m \u001b[49m\u001b[38;5;28;43mrange\u001b[39;49m\u001b[43m,\u001b[49m\u001b[43m \u001b[49m\u001b[43mweights\u001b[49m\u001b[43m)\u001b[49m\n\u001b[1;32m    798\u001b[0m \u001b[38;5;66;03m# Histogram is an integer or a float array depending on the weights.\u001b[39;00m\n\u001b[1;32m    799\u001b[0m \u001b[38;5;28;01mif\u001b[39;00m weights \u001b[38;5;129;01mis\u001b[39;00m \u001b[38;5;28;01mNone\u001b[39;00m:\n",
            "File \u001b[0;32m~/.local/lib/python3.11/site-packages/numpy/lib/_histograms_impl.py:434\u001b[0m, in \u001b[0;36m_get_bin_edges\u001b[0;34m(a, bins, range, weights)\u001b[0m\n\u001b[1;32m    432\u001b[0m     bin_edges \u001b[38;5;241m=\u001b[39m np\u001b[38;5;241m.\u001b[39masarray(bins)\n\u001b[1;32m    433\u001b[0m     \u001b[38;5;28;01mif\u001b[39;00m np\u001b[38;5;241m.\u001b[39many(bin_edges[:\u001b[38;5;241m-\u001b[39m\u001b[38;5;241m1\u001b[39m] \u001b[38;5;241m>\u001b[39m bin_edges[\u001b[38;5;241m1\u001b[39m:]):\n\u001b[0;32m--> 434\u001b[0m         \u001b[38;5;28;01mraise\u001b[39;00m \u001b[38;5;167;01mValueError\u001b[39;00m(\n\u001b[1;32m    435\u001b[0m             \u001b[38;5;124m'\u001b[39m\u001b[38;5;124m`bins` must increase monotonically, when an array\u001b[39m\u001b[38;5;124m'\u001b[39m)\n\u001b[1;32m    437\u001b[0m \u001b[38;5;28;01melse\u001b[39;00m:\n\u001b[1;32m    438\u001b[0m     \u001b[38;5;28;01mraise\u001b[39;00m \u001b[38;5;167;01mValueError\u001b[39;00m(\u001b[38;5;124m'\u001b[39m\u001b[38;5;124m`bins` must be 1d, when an array\u001b[39m\u001b[38;5;124m'\u001b[39m)\n",
            "\u001b[0;31mValueError\u001b[0m: `bins` must increase monotonically, when an array"
          ]
        },
        {
          "data": {
            "image/png": "[encoded data removed]",
            "text/plain": [
              "<Figure size 640x480 with 1 Axes>"
            ]
          },
          "metadata": {},
          "output_type": "display_data"
        }
      ],
      "source": [
        "# TODO\n",
        "mini = sub_ds.groupby('level5')['price'].transform('min')\n",
        "maxi = sub_ds.groupby('level5')['price'].transform('max')\n",
        "sub_ds['precios_normalizados'] = (sub_ds['price'] - mini)/(maxi - mini)\n",
        "\n",
        "print(sub_ds[['level5', 'price', 'precios_normalizados']])\n",
        "\n",
        "fig, ax = plt.subplots()\n",
        "\n",
        "edgecolors = ['green', 'red', 'blue']\n",
        "\n",
        "ax.hist(cinturón_sur, sub_ds['precios_normalizados'], fill=False, histtype=\"step\", stacked=True,\n",
        "        edgecolor=edgecolors, label=edgecolors)\n",
        "ax.legend()\n",
        "ax.set_title('Stacked Steps with Edgecolors')\n",
        "\n",
        "plt.show()\n",
        "\n",
        "\n",
        "\n"
      ]
    },
    {
      "attachments": {},
      "cell_type": "markdown",
      "id": "precise-heavy",
      "metadata": {},
      "source": [
        "**TODO: Markdown**. Para escribir aquí, haz doble clic en esta celda, elimina este contenido y coloca lo que quieras escribir. Luego ejecuta la celda."
      ]
    },
    {
      "attachments": {},
      "cell_type": "markdown",
      "id": "patent-jonathan",
      "metadata": {},
      "source": [
        "#### Ejercicio 19. ¿Qué puedes decir sobre el precio por metro cuadrado (precio/m2) entre los municipios de 'Getafe' y 'Alcorcón'? Debes usar el subconjunto obtenido en la pregunta 14 (★★☆)\n",
        "\n",
        "Pista: Crea una nueva columna llamada `pps` (price per square en inglés) y luego analiza los valores"
      ]
    },
    {
      "cell_type": "code",
      "execution_count": null,
      "id": "initial-liverpool",
      "metadata": {},
      "outputs": [],
      "source": [
        "# TODO"
      ]
    },
    {
      "attachments": {},
      "cell_type": "markdown",
      "id": "enhanced-moscow",
      "metadata": {},
      "source": [
        "#### Ejercicio 20. Realiza el mismo gráfico para 4 poblaciones diferentes (columna level5) y colócalos en el mismo gráfico. Debes usar el subconjunto obtenido en la pregunta 14 (★★☆) \n",
        "Pista: Haz un diagrama de dispersión de cada población usando subgráficos (subplots)."
      ]
    },
    {
      "cell_type": "code",
      "execution_count": null,
      "id": "accepting-airfare",
      "metadata": {},
      "outputs": [],
      "source": [
        "# TODO"
      ]
    },
    {
      "attachments": {},
      "cell_type": "markdown",
      "id": "blocked-effects",
      "metadata": {},
      "source": [
        "#### Ejercicio 21. Realiza un trazado de las coordenadas (columnas latitud y longitud) del cinturón sur de Madrid por color de cada población (debes usar el subconjunto obtenido del Ejercicio 14) (★★★★)\n",
        "\n",
        "Ejecuta la siguiente celda y luego comienza a codear en la siguiente. Debes implementar un código simple que transforme las columnas de coordenadas en un diccionario de Python (agrega más información si es necesario) y agrégala al mapa."
      ]
    },
    {
      "cell_type": "code",
      "execution_count": null,
      "id": "headed-privacy",
      "metadata": {},
      "outputs": [],
      "source": [
        "from ipyleaflet import Map, basemaps\n",
        "\n",
        "# Mapa centrado en (60 grados latitud y -2.2 grados longitud)\n",
        "# Latitud, longitud\n",
        "map = Map(center = (60, -2.2), zoom = 2, min_zoom = 1, max_zoom = 20, \n",
        "    basemap=basemaps.Stamen.Terrain)\n",
        "map"
      ]
    },
    {
      "cell_type": "code",
      "execution_count": null,
      "id": "present-mistress",
      "metadata": {},
      "outputs": [],
      "source": [
        "## Aquí: traza la coordenadas de los estados\n",
        "\n",
        "## PON TU CÓDIGO AQUÍ:\n"
      ]
    }
  ],
  "metadata": {
    "kernelspec": {
      "display_name": "Python 3",
      "language": "python",
      "name": "python3"
    },
    "language_info": {
      "codemirror_mode": {
        "name": "ipython",
        "version": 3
      },
      "file_extension": ".py",
      "mimetype": "text/x-python",
      "name": "python",
      "nbconvert_exporter": "python",
      "pygments_lexer": "ipython3",
      "version": "3.11.4"
    }
  },
  "nbformat": 4,
  "nbformat_minor": 5
}
